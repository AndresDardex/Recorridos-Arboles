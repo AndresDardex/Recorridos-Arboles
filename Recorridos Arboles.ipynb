{
 "cells": [
  {
   "cell_type": "code",
   "execution_count": 2,
   "metadata": {},
   "outputs": [
    {
     "name": "stdout",
     "output_type": "stream",
     "text": [
      "1\n",
      "2\n",
      "4\n",
      "5\n",
      "3\n"
     ]
    }
   ],
   "source": [
    "class Nodo:\n",
    "    def __init__(self, value):\n",
    "        self.value = value\n",
    "        self.left = None\n",
    "        self.right = None\n",
    "\n",
    "def preorden(node):\n",
    "    if node is not None:\n",
    "        print(node.value)  # Visita el nodo actual\n",
    "        preorden(node.left)  # Recorre el subárbol izquierdo\n",
    "        preorden(node.right)  # Recorre el subárbol derecho\n",
    "\n",
    "# Crear el árbol\n",
    "arbol = Nodo(1)\n",
    "arbol.left = Nodo(2)\n",
    "arbol.right = Nodo(3)\n",
    "arbol.left.left = Nodo(4)\n",
    "arbol.left.right = Nodo(5)\n",
    "\n",
    "# Llamamos a la función de recorrido en preorden desde la raíz del árbol\n",
    "preorden(arbol)\n",
    "\n"
   ]
  },
  {
   "cell_type": "code",
   "execution_count": 3,
   "metadata": {},
   "outputs": [
    {
     "name": "stdout",
     "output_type": "stream",
     "text": [
      "4\n",
      "2\n",
      "5\n",
      "1\n",
      "3\n"
     ]
    }
   ],
   "source": [
    "def inorden(node):\n",
    "    if node is not None:\n",
    "        inorden(node.left)  # Recorre el subárbol izquierdo\n",
    "        print(node.value)  # Visita el nodo actual\n",
    "        inorden(node.right)  # Recorre el subárbol derecho\n",
    "\n",
    "# Llamamos a la función de recorrido en inorden desde la raíz del árbol\n",
    "inorden(arbol)\n"
   ]
  },
  {
   "cell_type": "code",
   "execution_count": 4,
   "metadata": {},
   "outputs": [
    {
     "name": "stdout",
     "output_type": "stream",
     "text": [
      "4\n",
      "5\n",
      "2\n",
      "3\n",
      "1\n"
     ]
    }
   ],
   "source": [
    "def postorden(node):\n",
    "    if node is not None:\n",
    "        postorden(node.left)  # Recorre el subárbol izquierdo\n",
    "        postorden(node.right)  # Recorre el subárbol derecho\n",
    "        print(node.value)  # Visita el nodo actual\n",
    "\n",
    "# Llamamos a la función de recorrido en postorden desde la raíz del árbol\n",
    "postorden(arbol)\n"
   ]
  }
 ],
 "metadata": {
  "kernelspec": {
   "display_name": "Python 3",
   "language": "python",
   "name": "python3"
  },
  "language_info": {
   "codemirror_mode": {
    "name": "ipython",
    "version": 3
   },
   "file_extension": ".py",
   "mimetype": "text/x-python",
   "name": "python",
   "nbconvert_exporter": "python",
   "pygments_lexer": "ipython3",
   "version": "3.9.13"
  }
 },
 "nbformat": 4,
 "nbformat_minor": 2
}
